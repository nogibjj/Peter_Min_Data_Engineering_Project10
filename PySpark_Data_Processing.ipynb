{
 "cells": [
  {
   "cell_type": "code",
   "execution_count": 0,
   "metadata": {
    "application/vnd.databricks.v1+cell": {
     "cellMetadata": {
      "byteLimit": 2048000,
      "rowLimit": 10000
     },
     "inputWidgets": {},
     "nuid": "e76f0063-3647-4c46-8cb1-a77de1b69777",
     "showTitle": false,
     "tableResultSettingsMap": {},
     "title": ""
    }
   },
   "outputs": [],
   "source": [
    "import pyspark\n",
    "from pyspark.sql.functions import col, avg, count"
   ]
  },
  {
   "cell_type": "code",
   "execution_count": 0,
   "metadata": {
    "application/vnd.databricks.v1+cell": {
     "cellMetadata": {
      "byteLimit": 2048000,
      "rowLimit": 10000
     },
     "inputWidgets": {},
     "nuid": "ee976afc-11f4-45fc-bb4e-df18d94ad5df",
     "showTitle": false,
     "tableResultSettingsMap": {},
     "title": ""
    }
   },
   "outputs": [],
   "source": [
    "# Loading the dataset from FiveThirtyEight GitHub repo.\n",
    "datasource_url = \"https://raw.githubusercontent.com/fivethirtyeight/covid-19-polls/refs/heads/master/covid_concern_polls.csv\"\n",
    "sc.addFile(datasource_url)\n",
    "file_path = \"file://\" + pyspark.SparkFiles.get(\"covid_concern_polls.csv\")\n",
    "df = spark.read.csv(file_path, header=True, inferSchema=True, sep=\",\")"
   ]
  },
  {
   "cell_type": "code",
   "execution_count": 0,
   "metadata": {
    "application/vnd.databricks.v1+cell": {
     "cellMetadata": {
      "byteLimit": 2048000,
      "rowLimit": 10000
     },
     "inputWidgets": {},
     "nuid": "37be87e2-0eb5-4f34-aec5-b8d5219b8d6b",
     "showTitle": false,
     "tableResultSettingsMap": {},
     "title": ""
    }
   },
   "outputs": [
    {
     "output_type": "display_data",
     "data": {
      "text/html": [
       "<div>\n",
       "<style scoped>\n",
       "    .dataframe tbody tr th:only-of-type {\n",
       "        vertical-align: middle;\n",
       "    }\n",
       "\n",
       "    .dataframe tbody tr th {\n",
       "        vertical-align: top;\n",
       "    }\n",
       "\n",
       "    .dataframe thead th {\n",
       "        text-align: right;\n",
       "    }\n",
       "</style>\n",
       "<table border=\"1\" class=\"dataframe\">\n",
       "  <thead>\n",
       "    <tr style=\"text-align: right;\">\n",
       "      <th></th>\n",
       "      <th>start_date</th>\n",
       "      <th>end_date</th>\n",
       "      <th>pollster</th>\n",
       "      <th>sponsor</th>\n",
       "      <th>sample_size</th>\n",
       "      <th>population</th>\n",
       "      <th>party</th>\n",
       "      <th>subject</th>\n",
       "      <th>tracking</th>\n",
       "      <th>text</th>\n",
       "      <th>very</th>\n",
       "      <th>somewhat</th>\n",
       "      <th>not_very</th>\n",
       "      <th>not_at_all</th>\n",
       "      <th>url</th>\n",
       "    </tr>\n",
       "  </thead>\n",
       "  <tbody>\n",
       "    <tr>\n",
       "      <th>0</th>\n",
       "      <td>2020-01-27</td>\n",
       "      <td>2020-01-29</td>\n",
       "      <td>Morning Consult</td>\n",
       "      <td>None</td>\n",
       "      <td>2202.0</td>\n",
       "      <td>a</td>\n",
       "      <td>all</td>\n",
       "      <td>concern-economy</td>\n",
       "      <td>False</td>\n",
       "      <td>How concerned are you that the coronavirus wil...</td>\n",
       "      <td>19.0</td>\n",
       "      <td>33.0</td>\n",
       "      <td>23.0</td>\n",
       "      <td>11.0</td>\n",
       "      <td>https://morningconsult.com/wp-content/uploads/...</td>\n",
       "    </tr>\n",
       "    <tr>\n",
       "      <th>1</th>\n",
       "      <td>2020-01-31</td>\n",
       "      <td>2020-02-02</td>\n",
       "      <td>Morning Consult</td>\n",
       "      <td>None</td>\n",
       "      <td>2202.0</td>\n",
       "      <td>a</td>\n",
       "      <td>all</td>\n",
       "      <td>concern-economy</td>\n",
       "      <td>False</td>\n",
       "      <td>How concerned are you that the coronavirus wil...</td>\n",
       "      <td>26.0</td>\n",
       "      <td>32.0</td>\n",
       "      <td>25.0</td>\n",
       "      <td>7.0</td>\n",
       "      <td>https://morningconsult.com/wp-content/uploads/...</td>\n",
       "    </tr>\n",
       "    <tr>\n",
       "      <th>2</th>\n",
       "      <td>2020-02-02</td>\n",
       "      <td>2020-02-04</td>\n",
       "      <td>YouGov</td>\n",
       "      <td>Economist</td>\n",
       "      <td>1500.0</td>\n",
       "      <td>a</td>\n",
       "      <td>all</td>\n",
       "      <td>concern-infected</td>\n",
       "      <td>False</td>\n",
       "      <td>Taking into consideration both your risk of co...</td>\n",
       "      <td>13.0</td>\n",
       "      <td>26.0</td>\n",
       "      <td>43.0</td>\n",
       "      <td>18.0</td>\n",
       "      <td>https://d25d2506sfb94s.cloudfront.net/cumulus_...</td>\n",
       "    </tr>\n",
       "    <tr>\n",
       "      <th>3</th>\n",
       "      <td>2020-02-07</td>\n",
       "      <td>2020-02-09</td>\n",
       "      <td>Morning Consult</td>\n",
       "      <td>None</td>\n",
       "      <td>2200.0</td>\n",
       "      <td>a</td>\n",
       "      <td>all</td>\n",
       "      <td>concern-economy</td>\n",
       "      <td>False</td>\n",
       "      <td>How concerned are you that the coronavirus wil...</td>\n",
       "      <td>23.0</td>\n",
       "      <td>32.0</td>\n",
       "      <td>24.0</td>\n",
       "      <td>9.0</td>\n",
       "      <td>https://morningconsult.com/wp-content/uploads/...</td>\n",
       "    </tr>\n",
       "    <tr>\n",
       "      <th>4</th>\n",
       "      <td>2020-02-07</td>\n",
       "      <td>2020-02-09</td>\n",
       "      <td>YouGov</td>\n",
       "      <td>Huffington Post</td>\n",
       "      <td>1000.0</td>\n",
       "      <td>a</td>\n",
       "      <td>all</td>\n",
       "      <td>concern-infected</td>\n",
       "      <td>False</td>\n",
       "      <td>How concerned are you that you or someone in y...</td>\n",
       "      <td>11.0</td>\n",
       "      <td>24.0</td>\n",
       "      <td>33.0</td>\n",
       "      <td>20.0</td>\n",
       "      <td>https://projects.fivethirtyeight.com/polls/202...</td>\n",
       "    </tr>\n",
       "  </tbody>\n",
       "</table>\n",
       "</div>"
      ]
     },
     "metadata": {
      "application/vnd.databricks.v1+output": {
       "addedWidgets": {},
       "arguments": {},
       "data": "<div>\n<style scoped>\n    .dataframe tbody tr th:only-of-type {\n        vertical-align: middle;\n    }\n\n    .dataframe tbody tr th {\n        vertical-align: top;\n    }\n\n    .dataframe thead th {\n        text-align: right;\n    }\n</style>\n<table border=\"1\" class=\"dataframe\">\n  <thead>\n    <tr style=\"text-align: right;\">\n      <th></th>\n      <th>start_date</th>\n      <th>end_date</th>\n      <th>pollster</th>\n      <th>sponsor</th>\n      <th>sample_size</th>\n      <th>population</th>\n      <th>party</th>\n      <th>subject</th>\n      <th>tracking</th>\n      <th>text</th>\n      <th>very</th>\n      <th>somewhat</th>\n      <th>not_very</th>\n      <th>not_at_all</th>\n      <th>url</th>\n    </tr>\n  </thead>\n  <tbody>\n    <tr>\n      <th>0</th>\n      <td>2020-01-27</td>\n      <td>2020-01-29</td>\n      <td>Morning Consult</td>\n      <td>None</td>\n      <td>2202.0</td>\n      <td>a</td>\n      <td>all</td>\n      <td>concern-economy</td>\n      <td>False</td>\n      <td>How concerned are you that the coronavirus wil...</td>\n      <td>19.0</td>\n      <td>33.0</td>\n      <td>23.0</td>\n      <td>11.0</td>\n      <td>https://morningconsult.com/wp-content/uploads/...</td>\n    </tr>\n    <tr>\n      <th>1</th>\n      <td>2020-01-31</td>\n      <td>2020-02-02</td>\n      <td>Morning Consult</td>\n      <td>None</td>\n      <td>2202.0</td>\n      <td>a</td>\n      <td>all</td>\n      <td>concern-economy</td>\n      <td>False</td>\n      <td>How concerned are you that the coronavirus wil...</td>\n      <td>26.0</td>\n      <td>32.0</td>\n      <td>25.0</td>\n      <td>7.0</td>\n      <td>https://morningconsult.com/wp-content/uploads/...</td>\n    </tr>\n    <tr>\n      <th>2</th>\n      <td>2020-02-02</td>\n      <td>2020-02-04</td>\n      <td>YouGov</td>\n      <td>Economist</td>\n      <td>1500.0</td>\n      <td>a</td>\n      <td>all</td>\n      <td>concern-infected</td>\n      <td>False</td>\n      <td>Taking into consideration both your risk of co...</td>\n      <td>13.0</td>\n      <td>26.0</td>\n      <td>43.0</td>\n      <td>18.0</td>\n      <td>https://d25d2506sfb94s.cloudfront.net/cumulus_...</td>\n    </tr>\n    <tr>\n      <th>3</th>\n      <td>2020-02-07</td>\n      <td>2020-02-09</td>\n      <td>Morning Consult</td>\n      <td>None</td>\n      <td>2200.0</td>\n      <td>a</td>\n      <td>all</td>\n      <td>concern-economy</td>\n      <td>False</td>\n      <td>How concerned are you that the coronavirus wil...</td>\n      <td>23.0</td>\n      <td>32.0</td>\n      <td>24.0</td>\n      <td>9.0</td>\n      <td>https://morningconsult.com/wp-content/uploads/...</td>\n    </tr>\n    <tr>\n      <th>4</th>\n      <td>2020-02-07</td>\n      <td>2020-02-09</td>\n      <td>YouGov</td>\n      <td>Huffington Post</td>\n      <td>1000.0</td>\n      <td>a</td>\n      <td>all</td>\n      <td>concern-infected</td>\n      <td>False</td>\n      <td>How concerned are you that you or someone in y...</td>\n      <td>11.0</td>\n      <td>24.0</td>\n      <td>33.0</td>\n      <td>20.0</td>\n      <td>https://projects.fivethirtyeight.com/polls/202...</td>\n    </tr>\n  </tbody>\n</table>\n</div>",
       "datasetInfos": [],
       "metadata": {},
       "removedWidgets": [],
       "textData": null,
       "type": "htmlSandbox"
      }
     }
    }
   ],
   "source": [
    "# View the data in a more readable format.\n",
    "df.toPandas().head(5)"
   ]
  },
  {
   "cell_type": "markdown",
   "metadata": {
    "application/vnd.databricks.v1+cell": {
     "cellMetadata": {},
     "inputWidgets": {},
     "nuid": "ce385d37-9ad3-4e09-acb1-5b5de23d9c32",
     "showTitle": false,
     "tableResultSettingsMap": {},
     "title": ""
    }
   },
   "source": [
    "### Data Transformation"
   ]
  },
  {
   "cell_type": "code",
   "execution_count": 0,
   "metadata": {
    "application/vnd.databricks.v1+cell": {
     "cellMetadata": {
      "byteLimit": 2048000,
      "rowLimit": 10000
     },
     "inputWidgets": {},
     "nuid": "cf4c523f-9cae-4135-8b70-ee205bbf08ff",
     "showTitle": false,
     "tableResultSettingsMap": {},
     "title": ""
    }
   },
   "outputs": [
    {
     "output_type": "stream",
     "name": "stdout",
     "text": [
      "Out[31]: (686, 15)"
     ]
    }
   ],
   "source": [
    "pandas_df = df.toPandas()\n",
    "pandas_df.shape"
   ]
  },
  {
   "cell_type": "code",
   "execution_count": 0,
   "metadata": {
    "application/vnd.databricks.v1+cell": {
     "cellMetadata": {
      "byteLimit": 2048000,
      "rowLimit": 10000
     },
     "inputWidgets": {},
     "nuid": "7530f0ea-b8fd-4de5-9659-cdda70e8ad69",
     "showTitle": false,
     "tableResultSettingsMap": {},
     "title": ""
    }
   },
   "outputs": [
    {
     "output_type": "stream",
     "name": "stdout",
     "text": [
      "Out[32]: (214, 15)"
     ]
    }
   ],
   "source": [
    "# Data transformation code that only examines polls targeting registered voters.\n",
    "registered_voter_polls = pandas_df[pandas_df[\"population\"] == \"rv\"]\n",
    "registered_voter_polls.shape"
   ]
  },
  {
   "cell_type": "code",
   "execution_count": 0,
   "metadata": {
    "application/vnd.databricks.v1+cell": {
     "cellMetadata": {
      "byteLimit": 2048000,
      "rowLimit": 10000
     },
     "inputWidgets": {},
     "nuid": "16545e57-be11-4c21-baa9-8b8802a17ae4",
     "showTitle": false,
     "tableResultSettingsMap": {},
     "title": ""
    }
   },
   "outputs": [
    {
     "output_type": "display_data",
     "data": {
      "text/html": [
       "<div>\n",
       "<style scoped>\n",
       "    .dataframe tbody tr th:only-of-type {\n",
       "        vertical-align: middle;\n",
       "    }\n",
       "\n",
       "    .dataframe tbody tr th {\n",
       "        vertical-align: top;\n",
       "    }\n",
       "\n",
       "    .dataframe thead th {\n",
       "        text-align: right;\n",
       "    }\n",
       "</style>\n",
       "<table border=\"1\" class=\"dataframe\">\n",
       "  <thead>\n",
       "    <tr style=\"text-align: right;\">\n",
       "      <th></th>\n",
       "      <th>start_date</th>\n",
       "      <th>end_date</th>\n",
       "      <th>pollster</th>\n",
       "      <th>sponsor</th>\n",
       "      <th>sample_size</th>\n",
       "      <th>population</th>\n",
       "      <th>party</th>\n",
       "      <th>subject</th>\n",
       "      <th>tracking</th>\n",
       "      <th>text</th>\n",
       "      <th>very</th>\n",
       "      <th>somewhat</th>\n",
       "      <th>not_very</th>\n",
       "      <th>not_at_all</th>\n",
       "      <th>url</th>\n",
       "    </tr>\n",
       "  </thead>\n",
       "  <tbody>\n",
       "    <tr>\n",
       "      <th>12</th>\n",
       "      <td>2020-02-24</td>\n",
       "      <td>2020-02-26</td>\n",
       "      <td>Morning Consult</td>\n",
       "      <td>None</td>\n",
       "      <td>1994.0</td>\n",
       "      <td>rv</td>\n",
       "      <td>all</td>\n",
       "      <td>concern-economy</td>\n",
       "      <td>False</td>\n",
       "      <td>How concerned are you that the coronavirus wil...</td>\n",
       "      <td>32.0</td>\n",
       "      <td>39.0</td>\n",
       "      <td>17.0</td>\n",
       "      <td>5.0</td>\n",
       "      <td>https://morningconsult.com/wp-content/uploads/...</td>\n",
       "    </tr>\n",
       "    <tr>\n",
       "      <th>16</th>\n",
       "      <td>2020-03-02</td>\n",
       "      <td>2020-03-03</td>\n",
       "      <td>PPP</td>\n",
       "      <td>Protect Our Care</td>\n",
       "      <td>866.0</td>\n",
       "      <td>rv</td>\n",
       "      <td>all</td>\n",
       "      <td>concern-economy</td>\n",
       "      <td>False</td>\n",
       "      <td>How concerned are you about the impact the cor...</td>\n",
       "      <td>36.0</td>\n",
       "      <td>36.0</td>\n",
       "      <td>21.0</td>\n",
       "      <td>6.0</td>\n",
       "      <td>https://www.protectourcare.org/wp-content/uplo...</td>\n",
       "    </tr>\n",
       "    <tr>\n",
       "      <th>17</th>\n",
       "      <td>2020-03-02</td>\n",
       "      <td>2020-03-03</td>\n",
       "      <td>PPP</td>\n",
       "      <td>Protect Our Care</td>\n",
       "      <td>866.0</td>\n",
       "      <td>rv</td>\n",
       "      <td>all</td>\n",
       "      <td>concern-infected</td>\n",
       "      <td>False</td>\n",
       "      <td>How concerned are you that you or someone in y...</td>\n",
       "      <td>24.0</td>\n",
       "      <td>33.0</td>\n",
       "      <td>30.0</td>\n",
       "      <td>12.0</td>\n",
       "      <td>https://www.protectourcare.org/wp-content/uplo...</td>\n",
       "    </tr>\n",
       "    <tr>\n",
       "      <th>19</th>\n",
       "      <td>2020-03-03</td>\n",
       "      <td>2020-03-05</td>\n",
       "      <td>Morning Consult</td>\n",
       "      <td>None</td>\n",
       "      <td>1990.0</td>\n",
       "      <td>rv</td>\n",
       "      <td>all</td>\n",
       "      <td>concern-economy</td>\n",
       "      <td>False</td>\n",
       "      <td>How concerned are you that the coronavirus wil...</td>\n",
       "      <td>38.0</td>\n",
       "      <td>37.0</td>\n",
       "      <td>12.0</td>\n",
       "      <td>5.0</td>\n",
       "      <td>https://morningconsult.com/wp-content/uploads/...</td>\n",
       "    </tr>\n",
       "    <tr>\n",
       "      <th>22</th>\n",
       "      <td>2020-03-06</td>\n",
       "      <td>2020-03-08</td>\n",
       "      <td>Global Strategy Group/GBAO/Navigator Research</td>\n",
       "      <td>None</td>\n",
       "      <td>1000.0</td>\n",
       "      <td>rv</td>\n",
       "      <td>all</td>\n",
       "      <td>concern-economy</td>\n",
       "      <td>False</td>\n",
       "      <td>Below is a list of possible events. For each, ...</td>\n",
       "      <td>36.0</td>\n",
       "      <td>37.0</td>\n",
       "      <td>16.0</td>\n",
       "      <td>11.0</td>\n",
       "      <td>https://navigatorresearch.org/wp-content/uploa...</td>\n",
       "    </tr>\n",
       "  </tbody>\n",
       "</table>\n",
       "</div>"
      ]
     },
     "metadata": {
      "application/vnd.databricks.v1+output": {
       "addedWidgets": {},
       "arguments": {},
       "data": "<div>\n<style scoped>\n    .dataframe tbody tr th:only-of-type {\n        vertical-align: middle;\n    }\n\n    .dataframe tbody tr th {\n        vertical-align: top;\n    }\n\n    .dataframe thead th {\n        text-align: right;\n    }\n</style>\n<table border=\"1\" class=\"dataframe\">\n  <thead>\n    <tr style=\"text-align: right;\">\n      <th></th>\n      <th>start_date</th>\n      <th>end_date</th>\n      <th>pollster</th>\n      <th>sponsor</th>\n      <th>sample_size</th>\n      <th>population</th>\n      <th>party</th>\n      <th>subject</th>\n      <th>tracking</th>\n      <th>text</th>\n      <th>very</th>\n      <th>somewhat</th>\n      <th>not_very</th>\n      <th>not_at_all</th>\n      <th>url</th>\n    </tr>\n  </thead>\n  <tbody>\n    <tr>\n      <th>12</th>\n      <td>2020-02-24</td>\n      <td>2020-02-26</td>\n      <td>Morning Consult</td>\n      <td>None</td>\n      <td>1994.0</td>\n      <td>rv</td>\n      <td>all</td>\n      <td>concern-economy</td>\n      <td>False</td>\n      <td>How concerned are you that the coronavirus wil...</td>\n      <td>32.0</td>\n      <td>39.0</td>\n      <td>17.0</td>\n      <td>5.0</td>\n      <td>https://morningconsult.com/wp-content/uploads/...</td>\n    </tr>\n    <tr>\n      <th>16</th>\n      <td>2020-03-02</td>\n      <td>2020-03-03</td>\n      <td>PPP</td>\n      <td>Protect Our Care</td>\n      <td>866.0</td>\n      <td>rv</td>\n      <td>all</td>\n      <td>concern-economy</td>\n      <td>False</td>\n      <td>How concerned are you about the impact the cor...</td>\n      <td>36.0</td>\n      <td>36.0</td>\n      <td>21.0</td>\n      <td>6.0</td>\n      <td>https://www.protectourcare.org/wp-content/uplo...</td>\n    </tr>\n    <tr>\n      <th>17</th>\n      <td>2020-03-02</td>\n      <td>2020-03-03</td>\n      <td>PPP</td>\n      <td>Protect Our Care</td>\n      <td>866.0</td>\n      <td>rv</td>\n      <td>all</td>\n      <td>concern-infected</td>\n      <td>False</td>\n      <td>How concerned are you that you or someone in y...</td>\n      <td>24.0</td>\n      <td>33.0</td>\n      <td>30.0</td>\n      <td>12.0</td>\n      <td>https://www.protectourcare.org/wp-content/uplo...</td>\n    </tr>\n    <tr>\n      <th>19</th>\n      <td>2020-03-03</td>\n      <td>2020-03-05</td>\n      <td>Morning Consult</td>\n      <td>None</td>\n      <td>1990.0</td>\n      <td>rv</td>\n      <td>all</td>\n      <td>concern-economy</td>\n      <td>False</td>\n      <td>How concerned are you that the coronavirus wil...</td>\n      <td>38.0</td>\n      <td>37.0</td>\n      <td>12.0</td>\n      <td>5.0</td>\n      <td>https://morningconsult.com/wp-content/uploads/...</td>\n    </tr>\n    <tr>\n      <th>22</th>\n      <td>2020-03-06</td>\n      <td>2020-03-08</td>\n      <td>Global Strategy Group/GBAO/Navigator Research</td>\n      <td>None</td>\n      <td>1000.0</td>\n      <td>rv</td>\n      <td>all</td>\n      <td>concern-economy</td>\n      <td>False</td>\n      <td>Below is a list of possible events. For each, ...</td>\n      <td>36.0</td>\n      <td>37.0</td>\n      <td>16.0</td>\n      <td>11.0</td>\n      <td>https://navigatorresearch.org/wp-content/uploa...</td>\n    </tr>\n  </tbody>\n</table>\n</div>",
       "datasetInfos": [],
       "metadata": {},
       "removedWidgets": [],
       "textData": null,
       "type": "htmlSandbox"
      }
     }
    }
   ],
   "source": [
    "registered_voter_polls.head(5)"
   ]
  },
  {
   "cell_type": "markdown",
   "metadata": {
    "application/vnd.databricks.v1+cell": {
     "cellMetadata": {},
     "inputWidgets": {},
     "nuid": "76990faf-b9c4-44e9-9552-2be9e7a911a8",
     "showTitle": false,
     "tableResultSettingsMap": {},
     "title": ""
    }
   },
   "source": [
    "### PySpark SQL Queries"
   ]
  },
  {
   "cell_type": "markdown",
   "metadata": {
    "application/vnd.databricks.v1+cell": {
     "cellMetadata": {},
     "inputWidgets": {},
     "nuid": "c2a2b082-6f5d-474a-bc1b-d266463b24ae",
     "showTitle": false,
     "tableResultSettingsMap": {},
     "title": ""
    }
   },
   "source": [
    "Let's first examine how many of those pollsters do not have any sponsors:"
   ]
  },
  {
   "cell_type": "code",
   "execution_count": 0,
   "metadata": {
    "application/vnd.databricks.v1+cell": {
     "cellMetadata": {
      "byteLimit": 2048000,
      "rowLimit": 10000
     },
     "inputWidgets": {},
     "nuid": "d48244e5-195f-4cfc-899f-d3860f3ddcef",
     "showTitle": false,
     "tableResultSettingsMap": {},
     "title": ""
    }
   },
   "outputs": [
    {
     "output_type": "stream",
     "name": "stdout",
     "text": [
      "Out[16]: 22"
     ]
    }
   ],
   "source": [
    "df.filter(col(\"sponsor\") != \"\").select(\"pollster\").distinct().count()"
   ]
  },
  {
   "cell_type": "code",
   "execution_count": 0,
   "metadata": {
    "application/vnd.databricks.v1+cell": {
     "cellMetadata": {
      "byteLimit": 2048000,
      "rowLimit": 10000
     },
     "inputWidgets": {},
     "nuid": "38af1395-4154-44ce-8c02-728c2d57f870",
     "showTitle": false,
     "tableResultSettingsMap": {},
     "title": ""
    }
   },
   "outputs": [
    {
     "output_type": "stream",
     "name": "stdout",
     "text": [
      "+----------------------------------+\n|pollster                          |\n+----------------------------------+\n|ABC                               |\n|AP-NORC                           |\n|Change Research                   |\n|Civiqs                            |\n|Emerson College Polling Society   |\n|Greenberg Quinlan Rosner          |\n|Harris Poll                       |\n|Hart Research Associates          |\n|Ipsos                             |\n|Langer Research Associates        |\n|Léger                             |\n|Morning Consult                   |\n|NORC                              |\n|PPP                               |\n|Public Religion Research Institute|\n|PureSpectrum                      |\n|RMG Research                      |\n|SSRS                              |\n|Survey 160                        |\n|SurveyMonkey                      |\n|SurveyMonkey Audience             |\n|YouGov                            |\n+----------------------------------+\n\n"
     ]
    }
   ],
   "source": [
    "df.filter(col(\"sponsor\") != \"\").select(\"pollster\").distinct().orderBy(\"pollster\").show(\n",
    "    df.count(), False\n",
    ")"
   ]
  },
  {
   "cell_type": "markdown",
   "metadata": {
    "application/vnd.databricks.v1+cell": {
     "cellMetadata": {},
     "inputWidgets": {},
     "nuid": "6d4d1c8c-2092-4343-b115-0537a48f5180",
     "showTitle": false,
     "tableResultSettingsMap": {},
     "title": ""
    }
   },
   "source": [
    "Then I would like to examine when people have concerns on economy-related questions, how many records have more 'very concerned' records than 'somewhat concerned' records."
   ]
  },
  {
   "cell_type": "code",
   "execution_count": 0,
   "metadata": {
    "application/vnd.databricks.v1+cell": {
     "cellMetadata": {
      "byteLimit": 2048000,
      "rowLimit": 10000
     },
     "inputWidgets": {},
     "nuid": "1e1fc0e2-7e19-4556-897f-d42c3af809fe",
     "showTitle": false,
     "tableResultSettingsMap": {},
     "title": ""
    }
   },
   "outputs": [
    {
     "output_type": "stream",
     "name": "stdout",
     "text": [
      "+--------+\n|count(1)|\n+--------+\n|     332|\n+--------+\n\n"
     ]
    }
   ],
   "source": [
    "df.createOrReplaceTempView(\"covid_polls\")\n",
    "\n",
    "result = spark.sql(\"\"\"SELECT count(*) FROM covid_polls WHERE very >= somewhat;\"\"\")\n",
    "result.show()"
   ]
  },
  {
   "cell_type": "markdown",
   "metadata": {
    "application/vnd.databricks.v1+cell": {
     "cellMetadata": {},
     "inputWidgets": {},
     "nuid": "03577877-a25e-4527-b18d-662f797c4d53",
     "showTitle": false,
     "tableResultSettingsMap": {},
     "title": ""
    }
   },
   "source": [
    "Lastly, we can take a look at the sentiment distribution of different groups of population (which in this dataset are adults, registered voters, and likely voters) for polls that have more 'very concerned' people than 'somewhat concerned' people:"
   ]
  },
  {
   "cell_type": "code",
   "execution_count": 0,
   "metadata": {
    "application/vnd.databricks.v1+cell": {
     "cellMetadata": {
      "byteLimit": 2048000,
      "rowLimit": 10000
     },
     "inputWidgets": {},
     "nuid": "0d5c39fb-9688-4661-8e4c-9c11e7779c6b",
     "showTitle": false,
     "tableResultSettingsMap": {},
     "title": ""
    }
   },
   "outputs": [
    {
     "output_type": "stream",
     "name": "stdout",
     "text": [
      "+-------------------+------------+\n|population_category|num_of_polls|\n+-------------------+------------+\n|      likely_voters|          13|\n|             adults|         183|\n|  registered_voters|         136|\n+-------------------+------------+\n\n"
     ]
    }
   ],
   "source": [
    "result = spark.sql(\n",
    "    \"\"\"SELECT\n",
    "    CASE population\n",
    "        WHEN 'lv' THEN 'likely_voters'\n",
    "        WHEN 'a' THEN 'adults'\n",
    "        WHEN 'rv' THEN 'registered_voters'\n",
    "    END AS population_category,\n",
    "    COUNT(*) AS num_of_polls\n",
    "    FROM covid_polls\n",
    "    WHERE very >= somewhat GROUP BY population;\"\"\"\n",
    ")\n",
    "result.show()"
   ]
  },
  {
   "cell_type": "markdown",
   "metadata": {
    "application/vnd.databricks.v1+cell": {
     "cellMetadata": {},
     "inputWidgets": {},
     "nuid": "5ae919e0-f0a4-42f5-bc1e-4f309d60f484",
     "showTitle": false,
     "tableResultSettingsMap": {},
     "title": ""
    }
   },
   "source": [
    "It looks like among polls that have more people who are very concerned than people who are somewhat concerned, the majority of them are adults, followed by registered voters, and then likely voters. Whether or not the drastic difference between likely voters and the rest of the two categories come from inexperience in life or social exposure would be a much complicated issue to look into."
   ]
  }
 ],
 "metadata": {
  "application/vnd.databricks.v1+notebook": {
   "dashboards": [],
   "environmentMetadata": null,
   "language": "python",
   "notebookMetadata": {
    "pythonIndentUnit": 4
   },
   "notebookName": "PySpark_Data_Processing",
   "widgets": {}
  }
 },
 "nbformat": 4,
 "nbformat_minor": 0
}
